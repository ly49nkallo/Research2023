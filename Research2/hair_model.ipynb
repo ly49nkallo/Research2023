{
 "cells": [
  {
   "cell_type": "markdown",
   "metadata": {},
   "source": [
    "## Find non periodic system when sweeping parameter"
   ]
  },
  {
   "cell_type": "code",
   "execution_count": 13,
   "metadata": {},
   "outputs": [],
   "source": [
    "# use phase space tranjectory first\n",
    "# use ly second (maybe)\n",
    "import model_num as mn\n",
    "import numpy as np\n",
    "import matplotlib.pyplot as plt\n",
    "from scipy.fft import fft, fftfreq, fftshift\n",
    "import generate_video\n",
    "import copy\n",
    "import multiprocessing as mp\n",
    "import time\n",
    "%matplotlib inline\n"
   ]
  },
  {
   "cell_type": "code",
   "execution_count": 14,
   "metadata": {},
   "outputs": [
    {
     "name": "stderr",
     "output_type": "stream",
     "text": [
      "  0%|          | 0/50000 [00:00<?, ?it/s]"
     ]
    },
    {
     "name": "stderr",
     "output_type": "stream",
     "text": [
      "100%|██████████| 50000/50000 [00:00<00:00, 56762.40it/s]\n"
     ]
    }
   ],
   "source": [
    "x0 = mn.get_good_default_initial_values()\n",
    "dt = 5e-1\n",
    "steps = 5e4\n",
    "param_file='./model_values_edited.json'\n",
    "params = mn.load_param_file(param_file)\n",
    "hist = mn.calculate_data(x0, steps, dt, params)"
   ]
  },
  {
   "cell_type": "code",
   "execution_count": 15,
   "metadata": {},
   "outputs": [
    {
     "name": "stdout",
     "output_type": "stream",
     "text": [
      "Is data periodic? False\n"
     ]
    }
   ],
   "source": [
    "# y = (hist[100:5000,0] + 4.25) # (49900,)\n",
    "# plt.figure()\n",
    "# plt.plot(y)\n",
    "\n",
    "# yf = np.abs(fft(y))\n",
    "# xf = fftfreq(len(y))\n",
    "# plt.figure()\n",
    "# plt.plot(xf, yf)\n",
    "# am = np.argmax(yf)\n",
    "# print(am)\n",
    "# print(xf[am])\n",
    "\n",
    "# y = np.sin(0.01 * np.linspace(0, 5000, 50000)) # (49900,)\n",
    "# plt.figure()\n",
    "# plt.plot(y)\n",
    "\n",
    "# yf = np.abs(fft(y))\n",
    "# xf = fftfreq(len(y))\n",
    "# plt.figure()\n",
    "# plt.plot(xf, yf)\n",
    "# am = np.argmax(yf)\n",
    "# print(am)\n",
    "# print(xf[am])\n",
    "\n",
    "def is_periodic(data:np.ndarray)->bool:\n",
    "    assert len(data.shape) == 1, \"data must be 1-d, got shape\" + repr(data.shape)\n",
    "    yf = np.abs(fft(data))\n",
    "    xf = fftfreq(data.size)\n",
    "    am = np.argmax(yf)\n",
    "    # print(am)\n",
    "    # print(f\"Freqency is {xf[am]}, and derived wavelength is {data.size * xf[am]}\")\n",
    "    return (xf[am] >= 1/data.size + 1e-5)\n",
    "\n",
    "def get_wavelength(data:np.ndarray)->float:\n",
    "    assert len(data.shape) == 1, \"data must be 1-d, got shape\" + repr(data.shape)\n",
    "    yf = np.abs(fft(data))\n",
    "    xf = fftfreq(data.size)\n",
    "    am = np.argmax(yf)\n",
    "    # print(am)\n",
    "    # print(f\"Freqency is {xf[am]}, and derived wavelength is {data.size * xf[am]}\")\n",
    "    return data.size * xf[am]\n",
    "\n",
    "print(f\"Is data periodic? {is_periodic(hist[100:,0] - np.mean(hist[100:,0]))}\")"
   ]
  },
  {
   "cell_type": "code",
   "execution_count": 1,
   "metadata": {},
   "outputs": [
    {
     "ename": "NameError",
     "evalue": "name 'params' is not defined",
     "output_type": "error",
     "traceback": [
      "\u001b[1;31m---------------------------------------------------------------------------\u001b[0m",
      "\u001b[1;31mNameError\u001b[0m                                 Traceback (most recent call last)",
      "Cell \u001b[1;32mIn[1], line 28\u001b[0m\n\u001b[0;32m     25\u001b[0m     \u001b[38;5;28mprint\u001b[39m(\u001b[38;5;124mf\u001b[39m\u001b[38;5;124m\"\u001b[39m\u001b[38;5;124mElapsed time: \u001b[39m\u001b[38;5;132;01m{\u001b[39;00mtime\u001b[38;5;241m.\u001b[39mtime()\u001b[38;5;250m \u001b[39m\u001b[38;5;241m-\u001b[39m\u001b[38;5;250m \u001b[39mstart_time\u001b[38;5;132;01m}\u001b[39;00m\u001b[38;5;124m\"\u001b[39m)\n\u001b[0;32m     26\u001b[0m     \u001b[38;5;28;01mreturn\u001b[39;00m is_periodic_arr, wavelength_arr\n\u001b[1;32m---> 28\u001b[0m is_periodic_arr, wavelength_arr \u001b[38;5;241m=\u001b[39m \u001b[43mget_perodic_array\u001b[49m\u001b[43m(\u001b[49m\u001b[43mwindow\u001b[49m\u001b[43m,\u001b[49m\u001b[43m \u001b[49m\u001b[43msearch_points\u001b[49m\u001b[43m)\u001b[49m\n\u001b[0;32m     29\u001b[0m ani \u001b[38;5;241m=\u001b[39m generate_video\u001b[38;5;241m.\u001b[39mgenerate_video2(frames)\n\u001b[0;32m     30\u001b[0m plt\u001b[38;5;241m.\u001b[39mplot(np\u001b[38;5;241m.\u001b[39marray(is_periodic_arr, dtype\u001b[38;5;241m=\u001b[39mnp\u001b[38;5;241m.\u001b[39mint32))\n",
      "Cell \u001b[1;32mIn[1], line 9\u001b[0m, in \u001b[0;36mget_perodic_array\u001b[1;34m(window, search_points)\u001b[0m\n\u001b[0;32m      7\u001b[0m wavelength_arr \u001b[38;5;241m=\u001b[39m []\n\u001b[0;32m      8\u001b[0m \u001b[38;5;66;03m# using only the first hyperparameter\u001b[39;00m\n\u001b[1;32m----> 9\u001b[0m default \u001b[38;5;241m=\u001b[39m \u001b[43mparams\u001b[49m[\u001b[38;5;241m8\u001b[39m]\n\u001b[0;32m     10\u001b[0m window_breadth \u001b[38;5;241m=\u001b[39m default \u001b[38;5;241m*\u001b[39m window\n\u001b[0;32m     12\u001b[0m start_time \u001b[38;5;241m=\u001b[39m time\u001b[38;5;241m.\u001b[39mtime()\n",
      "\u001b[1;31mNameError\u001b[0m: name 'params' is not defined"
     ]
    }
   ],
   "source": [
    "window = 0.5 # what multiple of the default value we want to scan around\n",
    "search_points = 30\n",
    "frames = []\n",
    "\n",
    "def get_perodic_array(window:float, search_points:int):\n",
    "    is_periodic_arr = []\n",
    "    wavelength_arr = []\n",
    "    # using only the first hyperparameter\n",
    "    default = params[8]\n",
    "    window_breadth = default * window\n",
    "\n",
    "    start_time = time.time()\n",
    "    for h in np.linspace(default - window_breadth, default + window_breadth, search_points):\n",
    "        # print(f\"using hyperparameter \\'{h}\\'\")\n",
    "        new_parameters = copy.copy(params)\n",
    "        new_parameters[8] = h\n",
    "        hist = mn.calculate_data(x0, steps, dt, new_parameters, method='RK2')\n",
    "        # plt.plot(hist[100:,0])\n",
    "        # plt.show()\n",
    "        frames.append(plt.plot(hist[100:,0]))\n",
    "        normalized_trimmed_hist = (hist[100:,0] - np.mean(hist[100:,0]))\n",
    "        is_periodic_arr.append(is_periodic(normalized_trimmed_hist))\n",
    "        wavelength_arr.append(get_wavelength(normalized_trimmed_hist))\n",
    "        \n",
    "    print(f\"Elapsed time: {time.time() - start_time}\")\n",
    "    return is_periodic_arr, wavelength_arr\n",
    "\n",
    "is_periodic_arr, wavelength_arr = get_perodic_array(window, search_points)\n",
    "ani = generate_video.generate_video2(frames)\n",
    "plt.plot(np.array(is_periodic_arr, dtype=np.int32))\n",
    "plt.plot(np.array(wavelength_arr, dtype=np.float32))"
   ]
  },
  {
   "cell_type": "code",
   "execution_count": null,
   "metadata": {},
   "outputs": [],
   "source": []
  }
 ],
 "metadata": {
  "kernelspec": {
   "display_name": "venv",
   "language": "python",
   "name": "python3"
  },
  "language_info": {
   "codemirror_mode": {
    "name": "ipython",
    "version": 3
   },
   "file_extension": ".py",
   "mimetype": "text/x-python",
   "name": "python",
   "nbconvert_exporter": "python",
   "pygments_lexer": "ipython3",
   "version": "3.9.17"
  }
 },
 "nbformat": 4,
 "nbformat_minor": 2
}
