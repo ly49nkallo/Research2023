{
 "cells": [
  {
   "cell_type": "markdown",
   "metadata": {},
   "source": [
    "## Find non periodic system when sweeping parameter"
   ]
  },
  {
   "cell_type": "code",
   "execution_count": 22,
   "metadata": {},
   "outputs": [],
   "source": [
    "# use phase space tranjectory first\n",
    "# use ly second (maybe)\n",
    "import model_num as mn\n",
    "import numpy as np\n",
    "import matplotlib.pyplot as plt\n",
    "from scipy.fft import fft, fftfreq, fftshift\n",
    "import generate_video\n",
    "import copy\n",
    "import multiprocessing as mp\n",
    "import time\n",
    "from tqdm import tqdm\n",
    "%matplotlib inline\n",
    "plt.rcParams[\"animation.html\"] = \"html5\" #Use HTML to render with 'inline' backend\n"
   ]
  },
  {
   "cell_type": "code",
   "execution_count": 23,
   "metadata": {},
   "outputs": [
    {
     "name": "stderr",
     "output_type": "stream",
     "text": [
      "100%|██████████| 50000/50000 [00:00<00:00, 98003.12it/s]\n"
     ]
    }
   ],
   "source": [
    "x0 = mn.get_good_default_initial_values()\n",
    "dt = 5e-1\n",
    "steps = 5e4\n",
    "param_file='./model_values_edited.json'\n",
    "params = mn.load_param_file(param_file)\n",
    "hist = mn.calculate_data(x0, steps, dt, params)"
   ]
  },
  {
   "cell_type": "code",
   "execution_count": 24,
   "metadata": {},
   "outputs": [
    {
     "name": "stdout",
     "output_type": "stream",
     "text": [
      "Is data periodic? False\n"
     ]
    }
   ],
   "source": [
    "# y = (hist[100:5000,0] + 4.25) # (49900,)\n",
    "# plt.figure()\n",
    "# plt.plot(y)\n",
    "\n",
    "# yf = np.abs(fft(y))\n",
    "# xf = fftfreq(len(y))\n",
    "# plt.figure()\n",
    "# plt.plot(xf, yf)\n",
    "# am = np.argmax(yf)\n",
    "# print(am)\n",
    "# print(xf[am])\n",
    "\n",
    "# y = np.sin(0.01 * np.linspace(0, 5000, 50000)) # (49900,)\n",
    "# plt.figure()\n",
    "# plt.plot(y)\n",
    "\n",
    "# yf = np.abs(fft(y))\n",
    "# xf = fftfreq(len(y))\n",
    "# plt.figure()\n",
    "# plt.plot(xf, yf)\n",
    "# am = np.argmax(yf)\n",
    "# print(am)\n",
    "# print(xf[am])\n",
    "\n",
    "def is_periodic(data:np.ndarray)->bool:\n",
    "    assert len(data.shape) == 1, \"data must be 1-d, got shape\" + repr(data.shape)\n",
    "    yf = np.abs(fft(data))\n",
    "    xf = fftfreq(data.size)\n",
    "    am = np.argmax(yf)\n",
    "    # print(am)\n",
    "    # print(f\"Freqency is {xf[am]}, and derived wavelength is {data.size * xf[am]}\")\n",
    "    return (xf[am] >= 1/data.size + 1e-5)\n",
    "\n",
    "def get_wavelength(data:np.ndarray)->float:\n",
    "    assert len(data.shape) == 1, \"data must be 1-d, got shape\" + repr(data.shape)\n",
    "    yf = np.abs(fft(data))\n",
    "    xf = fftfreq(data.size)\n",
    "    am = np.argmax(yf)\n",
    "    # print(am)\n",
    "    # print(f\"Freqency is {xf[am]}, and derived wavelength is {data.size * xf[am]}\")\n",
    "    return data.size * xf[am]\n",
    "\n",
    "print(f\"Is data periodic? {is_periodic(hist[100:,0] - np.mean(hist[100:,0]))}\")"
   ]
  },
  {
   "cell_type": "code",
   "execution_count": 33,
   "metadata": {},
   "outputs": [
    {
     "name": "stderr",
     "output_type": "stream",
     "text": [
      " 25%|██▌       | 5/20 [00:02<00:08,  1.72it/s]\n"
     ]
    },
    {
     "ename": "KeyboardInterrupt",
     "evalue": "",
     "output_type": "error",
     "traceback": [
      "\u001b[1;31m---------------------------------------------------------------------------\u001b[0m",
      "\u001b[1;31mKeyboardInterrupt\u001b[0m                         Traceback (most recent call last)",
      "Cell \u001b[1;32mIn[33], line 27\u001b[0m\n\u001b[0;32m     23\u001b[0m         wavelength_arr\u001b[38;5;241m.\u001b[39mappend(get_wavelength(normalized_trimmed_hist))\n\u001b[0;32m     25\u001b[0m     \u001b[38;5;28;01mreturn\u001b[39;00m values_arr, wavelength_arr, is_periodic_arr,\n\u001b[1;32m---> 27\u001b[0m _, wavelength_arr, is_periodic_arr \u001b[38;5;241m=\u001b[39m \u001b[43mget_perodic_array\u001b[49m\u001b[43m(\u001b[49m\n\u001b[0;32m     28\u001b[0m \u001b[43m    \u001b[49m\u001b[43mmn\u001b[49m\u001b[38;5;241;43m.\u001b[39;49m\u001b[43mget_parameter_names\u001b[49m\u001b[43m(\u001b[49m\u001b[43m)\u001b[49m\u001b[43m[\u001b[49m\u001b[38;5;241;43m8\u001b[39;49m\u001b[43m]\u001b[49m\u001b[43m,\u001b[49m\u001b[43m \u001b[49m\n\u001b[0;32m     29\u001b[0m \u001b[43m    \u001b[49m\u001b[43mwindow\u001b[49m\u001b[43m,\u001b[49m\u001b[43m \u001b[49m\n\u001b[0;32m     30\u001b[0m \u001b[43m    \u001b[49m\u001b[43msearch_points\u001b[49m\u001b[43m)\u001b[49m\n\u001b[0;32m     32\u001b[0m ani \u001b[38;5;241m=\u001b[39m generate_video\u001b[38;5;241m.\u001b[39mgenerate_video2(frames, interval\u001b[38;5;241m=\u001b[39m\u001b[38;5;241m150\u001b[39m, repeat_delay\u001b[38;5;241m=\u001b[39m\u001b[38;5;241m1000\u001b[39m)\n\u001b[0;32m     33\u001b[0m plt\u001b[38;5;241m.\u001b[39mfigure()\n",
      "Cell \u001b[1;32mIn[33], line 17\u001b[0m, in \u001b[0;36mget_perodic_array\u001b[1;34m(parameter, window, search_points)\u001b[0m\n\u001b[0;32m     15\u001b[0m new_parameters \u001b[38;5;241m=\u001b[39m copy\u001b[38;5;241m.\u001b[39mcopy(params)\n\u001b[0;32m     16\u001b[0m new_parameters[parameter_idx] \u001b[38;5;241m=\u001b[39m h\n\u001b[1;32m---> 17\u001b[0m hist \u001b[38;5;241m=\u001b[39m \u001b[43mmn\u001b[49m\u001b[38;5;241;43m.\u001b[39;49m\u001b[43mcalculate_data\u001b[49m\u001b[43m(\u001b[49m\u001b[43mx0\u001b[49m\u001b[43m,\u001b[49m\u001b[43m \u001b[49m\u001b[43msteps\u001b[49m\u001b[43m,\u001b[49m\u001b[43m \u001b[49m\u001b[43mdt\u001b[49m\u001b[43m,\u001b[49m\u001b[43m \u001b[49m\u001b[43mnew_parameters\u001b[49m\u001b[43m,\u001b[49m\u001b[43m \u001b[49m\u001b[43mmethod\u001b[49m\u001b[38;5;241;43m=\u001b[39;49m\u001b[38;5;124;43m'\u001b[39;49m\u001b[38;5;124;43mRK2\u001b[39;49m\u001b[38;5;124;43m'\u001b[39;49m\u001b[43m,\u001b[49m\u001b[43m \u001b[49m\u001b[43mprogress_bar\u001b[49m\u001b[38;5;241;43m=\u001b[39;49m\u001b[38;5;28;43;01mFalse\u001b[39;49;00m\u001b[43m)\u001b[49m\n\u001b[0;32m     18\u001b[0m \u001b[38;5;66;03m# plt.plot(hist[100:,0])\u001b[39;00m\n\u001b[0;32m     19\u001b[0m \u001b[38;5;66;03m# plt.show()\u001b[39;00m\n\u001b[0;32m     20\u001b[0m frames\u001b[38;5;241m.\u001b[39mappend(plt\u001b[38;5;241m.\u001b[39mplot(hist[\u001b[38;5;241m100\u001b[39m:,\u001b[38;5;241m0\u001b[39m], color\u001b[38;5;241m=\u001b[39m\u001b[38;5;124m'\u001b[39m\u001b[38;5;124mb\u001b[39m\u001b[38;5;124m'\u001b[39m))\n",
      "File \u001b[1;32mc:\\Users\\tyabr\\source\\repos\\Research\\Research2\\model_num.py:121\u001b[0m, in \u001b[0;36mcalculate_data\u001b[1;34m(x0, timesteps, dt, params, method, progress_bar)\u001b[0m\n\u001b[0;32m    119\u001b[0m hist \u001b[38;5;241m=\u001b[39m \u001b[38;5;28;01mNone\u001b[39;00m\n\u001b[0;32m    120\u001b[0m \u001b[38;5;28;01mif\u001b[39;00m method \u001b[38;5;241m==\u001b[39m \u001b[38;5;124m'\u001b[39m\u001b[38;5;124mRK2\u001b[39m\u001b[38;5;124m'\u001b[39m:\n\u001b[1;32m--> 121\u001b[0m     hist \u001b[38;5;241m=\u001b[39m \u001b[43m_RK2_calculate_data\u001b[49m\u001b[43m(\u001b[49m\u001b[43mx0\u001b[49m\u001b[43m,\u001b[49m\u001b[43m \u001b[49m\u001b[43mtimesteps\u001b[49m\u001b[43m,\u001b[49m\u001b[43m \u001b[49m\u001b[43mdt\u001b[49m\u001b[43m,\u001b[49m\u001b[43m \u001b[49m\u001b[43mparams\u001b[49m\u001b[43m,\u001b[49m\u001b[43m \u001b[49m\u001b[43mprogress_bar\u001b[49m\u001b[43m)\u001b[49m\n\u001b[0;32m    122\u001b[0m \u001b[38;5;28;01mreturn\u001b[39;00m hist\n",
      "File \u001b[1;32mc:\\Users\\tyabr\\source\\repos\\Research\\Research2\\model_num.py:149\u001b[0m, in \u001b[0;36m_RK2_calculate_data\u001b[1;34m(x0, timesteps, dt, params, spb)\u001b[0m\n\u001b[0;32m    147\u001b[0m     hist[i] \u001b[38;5;241m=\u001b[39m x\n\u001b[0;32m    148\u001b[0m     k1 \u001b[38;5;241m=\u001b[39m derivative(x, params)\n\u001b[1;32m--> 149\u001b[0m     k2 \u001b[38;5;241m=\u001b[39m \u001b[43mderivative\u001b[49m\u001b[43m(\u001b[49m\u001b[43m[\u001b[49m\u001b[43ma\u001b[49m\u001b[43m \u001b[49m\u001b[38;5;241;43m+\u001b[39;49m\u001b[43m \u001b[49m\u001b[43mb\u001b[49m\u001b[43m \u001b[49m\u001b[38;5;28;43;01mfor\u001b[39;49;00m\u001b[43m \u001b[49m\u001b[43ma\u001b[49m\u001b[43m,\u001b[49m\u001b[43mb\u001b[49m\u001b[43m \u001b[49m\u001b[38;5;129;43;01min\u001b[39;49;00m\u001b[43m \u001b[49m\u001b[38;5;28;43mzip\u001b[39;49m\u001b[43m(\u001b[49m\u001b[43mx\u001b[49m\u001b[43m,\u001b[49m\u001b[43m \u001b[49m\u001b[43m[\u001b[49m\u001b[43md\u001b[49m\u001b[43m \u001b[49m\u001b[38;5;241;43m*\u001b[39;49m\u001b[43m \u001b[49m\u001b[43mdt\u001b[49m\u001b[43m \u001b[49m\u001b[38;5;28;43;01mfor\u001b[39;49;00m\u001b[43m \u001b[49m\u001b[43md\u001b[49m\u001b[43m \u001b[49m\u001b[38;5;129;43;01min\u001b[39;49;00m\u001b[43m \u001b[49m\u001b[43mk1\u001b[49m\u001b[43m]\u001b[49m\u001b[43m)\u001b[49m\u001b[43m]\u001b[49m\u001b[43m,\u001b[49m\u001b[43m \u001b[49m\u001b[43mparams\u001b[49m\u001b[43m)\u001b[49m\n\u001b[0;32m    150\u001b[0m     x \u001b[38;5;241m=\u001b[39m  [c \u001b[38;5;241m+\u001b[39m (a \u001b[38;5;241m+\u001b[39m b) \u001b[38;5;241m/\u001b[39m \u001b[38;5;241m2\u001b[39m \u001b[38;5;241m*\u001b[39m dt \u001b[38;5;28;01mfor\u001b[39;00m a, b, c \u001b[38;5;129;01min\u001b[39;00m \u001b[38;5;28mzip\u001b[39m(k1, k2, x)]\n\u001b[0;32m    152\u001b[0m \u001b[38;5;28;01mreturn\u001b[39;00m hist\n",
      "File \u001b[1;32mc:\\Users\\tyabr\\source\\repos\\Research\\Research2\\model_num.py:72\u001b[0m, in \u001b[0;36mderivative\u001b[1;34m(x, p)\u001b[0m\n\u001b[0;32m     69\u001b[0m C \u001b[38;5;241m=\u001b[39m C_func(pm, Cmin)\n\u001b[0;32m     70\u001b[0m S \u001b[38;5;241m=\u001b[39m S_func(pm, Smin)\n\u001b[1;32m---> 72\u001b[0m pT_inf \u001b[38;5;241m=\u001b[39m \u001b[43mpTinf_func\u001b[49m\u001b[43m(\u001b[49m\u001b[43mkgs\u001b[49m\u001b[43m,\u001b[49m\u001b[43m \u001b[49m\u001b[43mxgs\u001b[49m\u001b[43m,\u001b[49m\u001b[43m \u001b[49m\u001b[43mUgsmax\u001b[49m\u001b[43m,\u001b[49m\u001b[43m \u001b[49m\u001b[43mdE0\u001b[49m\u001b[43m)\u001b[49m\n\u001b[0;32m     74\u001b[0m dxhb \u001b[38;5;241m=\u001b[39m \u001b[38;5;241m-\u001b[39m(Fgs \u001b[38;5;241m+\u001b[39m xhb) \u001b[38;5;241m/\u001b[39m tauhb0\n\u001b[0;32m     75\u001b[0m dxa \u001b[38;5;241m=\u001b[39m Smax \u001b[38;5;241m*\u001b[39m S \u001b[38;5;241m*\u001b[39m (Fgs \u001b[38;5;241m-\u001b[39m xa) \u001b[38;5;241m-\u001b[39m Cmax \u001b[38;5;241m*\u001b[39m C\n",
      "File \u001b[1;32mc:\\Users\\tyabr\\source\\repos\\Research\\Research2\\model_num.py:30\u001b[0m, in \u001b[0;36mpTinf_func\u001b[1;34m(kgs, xgs, Ugsmax, dE0)\u001b[0m\n\u001b[0;32m     29\u001b[0m \u001b[38;5;28;01mdef\u001b[39;00m \u001b[38;5;21mpTinf_func\u001b[39m(kgs: \u001b[38;5;28mfloat\u001b[39m, xgs: \u001b[38;5;28mfloat\u001b[39m, Ugsmax: \u001b[38;5;28mfloat\u001b[39m, dE0: \u001b[38;5;28mfloat\u001b[39m) \u001b[38;5;241m-\u001b[39m\u001b[38;5;241m>\u001b[39m \u001b[38;5;28mfloat\u001b[39m:\n\u001b[1;32m---> 30\u001b[0m     \u001b[38;5;28;01mreturn\u001b[39;00m \u001b[38;5;241m1\u001b[39m \u001b[38;5;241m/\u001b[39m (\u001b[38;5;241m1\u001b[39m \u001b[38;5;241m+\u001b[39m np\u001b[38;5;241m.\u001b[39mexp(Ugsmax \u001b[38;5;241m*\u001b[39m (dE0 \u001b[38;5;241m-\u001b[39m \u001b[43mkgs\u001b[49m\u001b[43m \u001b[49m\u001b[38;5;241;43m*\u001b[39;49m\u001b[43m \u001b[49m\u001b[43m(\u001b[49m\u001b[43mxgs\u001b[49m\u001b[43m \u001b[49m\u001b[38;5;241;43m-\u001b[39;49m\u001b[43m \u001b[49m\u001b[38;5;241;43m1\u001b[39;49m\u001b[43m \u001b[49m\u001b[38;5;241;43m/\u001b[39;49m\u001b[43m \u001b[49m\u001b[38;5;241;43m2\u001b[39;49m\u001b[43m)\u001b[49m)))\n",
      "\u001b[1;31mKeyboardInterrupt\u001b[0m: "
     ]
    },
    {
     "data": {
      "image/png": "[encoded data removed]",
      "text/plain": [
       "<Figure size 640x480 with 1 Axes>"
      ]
     },
     "metadata": {},
     "output_type": "display_data"
    }
   ],
   "source": [
    "window = 0.4 # what multiple of the default value we want to scan around\n",
    "search_points = 20\n",
    "frames = []\n",
    "\n",
    "def get_perodic_array(parameter:str, window:float, search_points:int):\n",
    "    is_periodic_arr = []\n",
    "    wavelength_arr = []\n",
    "    parameter_idx = mn.get_parameter_names().index(parameter) #normally parameter 8\n",
    "    # using only the first hyperparameter\n",
    "    default = params[parameter_idx]\n",
    "    window_breadth = default * window\n",
    "\n",
    "    for h in tqdm(values_arr := np.linspace(default - window_breadth, default + window_breadth, search_points)):\n",
    "        # print(f\"using hyperparameter \\'{h}\\'\")\n",
    "        new_parameters = copy.copy(params)\n",
    "        new_parameters[parameter_idx] = h\n",
    "        hist = mn.calculate_data(x0, steps, dt, new_parameters, method='RK2', progress_bar=False)\n",
    "        # plt.plot(hist[100:,0])\n",
    "        # plt.show()\n",
    "        frames.append(plt.plot(hist[100:,0], color='b'))\n",
    "        normalized_trimmed_hist = (hist[100:,0] - np.mean(hist[100:,0]))\n",
    "        is_periodic_arr.append(is_periodic(normalized_trimmed_hist))\n",
    "        wavelength_arr.append(get_wavelength(normalized_trimmed_hist))\n",
    "        \n",
    "    return values_arr, wavelength_arr, is_periodic_arr,\n",
    "\n",
    "_, wavelength_arr, is_periodic_arr = get_perodic_array(\n",
    "    mn.get_parameter_names()[8], \n",
    "    window, \n",
    "    search_points)\n",
    "\n",
    "ani = generate_video.generate_video2(frames, interval=150, repeat_delay=1000)\n",
    "plt.figure()\n",
    "plt.plot(np.array(is_periodic_arr, dtype=np.int32))\n",
    "plt.plot(np.array(wavelength_arr, dtype=np.float32))\n",
    "plt.show()\n",
    "ani"
   ]
  },
  {
   "cell_type": "markdown",
   "metadata": {},
   "source": [
    "# Perform experiment~!"
   ]
  },
  {
   "cell_type": "code",
   "execution_count": 30,
   "metadata": {},
   "outputs": [
    {
     "name": "stderr",
     "output_type": "stream",
     "text": [
      "100%|██████████| 20/20 [00:24<00:00,  1.20s/it]\n"
     ]
    },
    {
     "name": "stdout",
     "output_type": "stream",
     "text": [
      "Found event!\n"
     ]
    },
    {
     "data": {
      "image/png": "[encoded data removed]",
      "text/plain": [
       "<Figure size 640x480 with 1 Axes>"
      ]
     },
     "metadata": {},
     "output_type": "display_data"
    }
   ],
   "source": [
    "from make_logs import DataLogger\n",
    "from datetime import datetime\n",
    "\n",
    "LOGFILE = \"./\"\n",
    "SEARCHED_PARAMS = [mn.get_parameter_names()[8]]\n",
    "dl = DataLogger()\n",
    "dl.set_file_handle(\"./test_log.md\")\n",
    "dl.write_preamble()\n",
    "for sp in SEARCHED_PARAMS:\n",
    "    start_datetime = datetime.now()\n",
    "    start_time = time.time()\n",
    "    values_arr, wavelength_arr, is_periodic_arr = get_perodic_array(\n",
    "        sp, \n",
    "        1.0, \n",
    "        20)\n",
    "    dl.write_for_parameter(sp, values_arr, wavelength_arr, is_periodic_arr, \n",
    "                       start_datetime, start_time - time.time())\n",
    "    levents = [] \n",
    "    i = 0\n",
    "    flag = False\n",
    "    for v, w, p in zip(values_arr, wavelength_arr, is_periodic_arr):\n",
    "        if p == True and i != 0 and not flag:\n",
    "            levents.append(v)\n",
    "        flag = p\n",
    "        i += 1\n",
    "    del i, flag\n",
    "    for i, e in enumerate(levents):\n",
    "        dl.blank()\n",
    "        dl.write(f\"Event {i} at {e}\")\n",
    "    dl.blank()\n",
    "    \n"
   ]
  },
  {
   "cell_type": "code",
   "execution_count": null,
   "metadata": {},
   "outputs": [],
   "source": []
  }
 ],
 "metadata": {
  "kernelspec": {
   "display_name": "venv",
   "language": "python",
   "name": "python3"
  },
  "language_info": {
   "codemirror_mode": {
    "name": "ipython",
    "version": 3
   },
   "file_extension": ".py",
   "mimetype": "text/x-python",
   "name": "python",
   "nbconvert_exporter": "python",
   "pygments_lexer": "ipython3",
   "version": "3.9.7"
  }
 },
 "nbformat": 4,
 "nbformat_minor": 2
}
