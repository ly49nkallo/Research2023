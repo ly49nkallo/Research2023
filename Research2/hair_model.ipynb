{
 "cells": [
  {
   "cell_type": "markdown",
   "metadata": {},
   "source": [
    "## Find non periodic system when sweeping parameter"
   ]
  },
  {
   "cell_type": "code",
   "execution_count": 183,
   "metadata": {},
   "outputs": [],
   "source": [
    "# use phase space tranjectory first\n",
    "# use ly second (maybe)\n",
    "import model_num as mn\n",
    "import numpy as np\n",
    "import matplotlib.pyplot as plt\n",
    "from scipy.fft import fft, fftfreq, fftshift\n",
    "import generate_video\n",
    "import copy\n",
    "import multiprocessing as mp\n",
    "import time\n",
    "%matplotlib inline\n"
   ]
  },
  {
   "cell_type": "code",
   "execution_count": 184,
   "metadata": {},
   "outputs": [
    {
     "name": "stderr",
     "output_type": "stream",
     "text": [
      "100%|██████████| 50000/50000 [00:01<00:00, 42443.37it/s]\n"
     ]
    }
   ],
   "source": [
    "x0 = mn.get_good_default_initial_values()\n",
    "dt = 5e-1\n",
    "steps = 5e4\n",
    "param_file='./model_values_edited.json'\n",
    "params = mn.load_param_file(param_file)\n",
    "hist = mn.calculate_data(x0, steps, dt, params)"
   ]
  },
  {
   "cell_type": "code",
   "execution_count": 185,
   "metadata": {},
   "outputs": [
    {
     "name": "stdout",
     "output_type": "stream",
     "text": [
      "Is data periodic? False\n"
     ]
    }
   ],
   "source": [
    "# y = (hist[100:5000,0] + 4.25) # (49900,)\n",
    "# plt.figure()\n",
    "# plt.plot(y)\n",
    "\n",
    "# yf = np.abs(fft(y))\n",
    "# xf = fftfreq(len(y))\n",
    "# plt.figure()\n",
    "# plt.plot(xf, yf)\n",
    "# am = np.argmax(yf)\n",
    "# print(am)\n",
    "# print(xf[am])\n",
    "\n",
    "# y = np.sin(0.01 * np.linspace(0, 5000, 50000)) # (49900,)\n",
    "# plt.figure()\n",
    "# plt.plot(y)\n",
    "\n",
    "# yf = np.abs(fft(y))\n",
    "# xf = fftfreq(len(y))\n",
    "# plt.figure()\n",
    "# plt.plot(xf, yf)\n",
    "# am = np.argmax(yf)\n",
    "# print(am)\n",
    "# print(xf[am])\n",
    "\n",
    "def is_periodic(data:np.ndarray)->bool:\n",
    "    assert len(data.shape) == 1, \"data must be 1-d, got shape\" + repr(data.shape)\n",
    "    yf = np.abs(fft(data))\n",
    "    xf = fftfreq(data.size)\n",
    "    am = np.argmax(yf)\n",
    "    # print(am)\n",
    "    # print(f\"Freqency is {xf[am]}, and derived wavelength is {data.size * xf[am]}\")\n",
    "    return (xf[am] >= 1/data.size + 1e-5)\n",
    "\n",
    "def get_wavelength(data:np.ndarray)->float:\n",
    "    assert len(data.shape) == 1, \"data must be 1-d, got shape\" + repr(data.shape)\n",
    "    yf = np.abs(fft(data))\n",
    "    xf = fftfreq(data.size)\n",
    "    am = np.argmax(yf)\n",
    "    # print(am)\n",
    "    # print(f\"Freqency is {xf[am]}, and derived wavelength is {data.size * xf[am]}\")\n",
    "    return data.size * xf[am]\n",
    "\n",
    "print(f\"Is data periodic? {is_periodic(hist[100:,0] - np.mean(hist[100:,0]))}\")"
   ]
  },
  {
   "cell_type": "code",
   "execution_count": 186,
   "metadata": {},
   "outputs": [
    {
     "name": "stdout",
     "output_type": "stream",
     "text": [
      "using hyperparameter '41.7719688492242'\n"
     ]
    },
    {
     "name": "stderr",
     "output_type": "stream",
     "text": [
      "100%|██████████| 50000/50000 [00:01<00:00, 41180.41it/s]\n"
     ]
    },
    {
     "name": "stdout",
     "output_type": "stream",
     "text": [
      "using hyperparameter '44.652794287101734'\n"
     ]
    },
    {
     "name": "stderr",
     "output_type": "stream",
     "text": [
      "100%|██████████| 50000/50000 [00:01<00:00, 42789.19it/s]\n"
     ]
    },
    {
     "name": "stdout",
     "output_type": "stream",
     "text": [
      "using hyperparameter '47.53361972497926'\n"
     ]
    },
    {
     "name": "stderr",
     "output_type": "stream",
     "text": [
      "100%|██████████| 50000/50000 [00:01<00:00, 42944.37it/s]\n"
     ]
    },
    {
     "name": "stdout",
     "output_type": "stream",
     "text": [
      "using hyperparameter '50.414445162856794'\n"
     ]
    },
    {
     "name": "stderr",
     "output_type": "stream",
     "text": [
      "100%|██████████| 50000/50000 [00:01<00:00, 41683.25it/s]\n"
     ]
    },
    {
     "name": "stdout",
     "output_type": "stream",
     "text": [
      "using hyperparameter '53.29527060073433'\n"
     ]
    },
    {
     "name": "stderr",
     "output_type": "stream",
     "text": [
      "100%|██████████| 50000/50000 [00:01<00:00, 43270.64it/s]\n"
     ]
    },
    {
     "name": "stdout",
     "output_type": "stream",
     "text": [
      "using hyperparameter '56.17609603861185'\n"
     ]
    },
    {
     "name": "stderr",
     "output_type": "stream",
     "text": [
      "100%|██████████| 50000/50000 [00:01<00:00, 42752.62it/s]\n"
     ]
    },
    {
     "name": "stdout",
     "output_type": "stream",
     "text": [
      "using hyperparameter '59.056921476489386'\n"
     ]
    },
    {
     "name": "stderr",
     "output_type": "stream",
     "text": [
      "100%|██████████| 50000/50000 [00:01<00:00, 41338.61it/s]\n"
     ]
    },
    {
     "name": "stdout",
     "output_type": "stream",
     "text": [
      "using hyperparameter '61.93774691436691'\n"
     ]
    },
    {
     "name": "stderr",
     "output_type": "stream",
     "text": [
      "100%|██████████| 50000/50000 [00:01<00:00, 43102.94it/s]\n"
     ]
    },
    {
     "name": "stdout",
     "output_type": "stream",
     "text": [
      "using hyperparameter '64.81857235224444'\n"
     ]
    },
    {
     "name": "stderr",
     "output_type": "stream",
     "text": [
      "100%|██████████| 50000/50000 [00:01<00:00, 43065.45it/s]\n"
     ]
    },
    {
     "name": "stdout",
     "output_type": "stream",
     "text": [
      "using hyperparameter '67.69939779012198'\n"
     ]
    },
    {
     "name": "stderr",
     "output_type": "stream",
     "text": [
      "100%|██████████| 50000/50000 [00:01<00:00, 41163.94it/s]\n"
     ]
    },
    {
     "name": "stdout",
     "output_type": "stream",
     "text": [
      "using hyperparameter '70.58022322799951'\n"
     ]
    },
    {
     "name": "stderr",
     "output_type": "stream",
     "text": [
      "100%|██████████| 50000/50000 [00:01<00:00, 43131.55it/s]\n"
     ]
    },
    {
     "name": "stdout",
     "output_type": "stream",
     "text": [
      "using hyperparameter '73.46104866587703'\n"
     ]
    },
    {
     "name": "stderr",
     "output_type": "stream",
     "text": [
      "100%|██████████| 50000/50000 [00:01<00:00, 43082.82it/s]\n"
     ]
    },
    {
     "name": "stdout",
     "output_type": "stream",
     "text": [
      "using hyperparameter '76.34187410375458'\n"
     ]
    },
    {
     "name": "stderr",
     "output_type": "stream",
     "text": [
      "100%|██████████| 50000/50000 [00:01<00:00, 41961.68it/s]\n"
     ]
    },
    {
     "name": "stdout",
     "output_type": "stream",
     "text": [
      "using hyperparameter '79.2226995416321'\n"
     ]
    },
    {
     "name": "stderr",
     "output_type": "stream",
     "text": [
      "100%|██████████| 50000/50000 [00:01<00:00, 43064.57it/s]\n"
     ]
    },
    {
     "name": "stdout",
     "output_type": "stream",
     "text": [
      "using hyperparameter '82.10352497950963'\n"
     ]
    },
    {
     "name": "stderr",
     "output_type": "stream",
     "text": [
      "100%|██████████| 50000/50000 [00:01<00:00, 43258.60it/s]\n"
     ]
    },
    {
     "name": "stdout",
     "output_type": "stream",
     "text": [
      "using hyperparameter '84.98435041738716'\n"
     ]
    },
    {
     "name": "stderr",
     "output_type": "stream",
     "text": [
      "100%|██████████| 50000/50000 [00:01<00:00, 29947.54it/s]\n"
     ]
    },
    {
     "name": "stdout",
     "output_type": "stream",
     "text": [
      "using hyperparameter '87.86517585526468'\n"
     ]
    },
    {
     "name": "stderr",
     "output_type": "stream",
     "text": [
      "100%|██████████| 50000/50000 [00:01<00:00, 32201.75it/s]\n"
     ]
    },
    {
     "name": "stdout",
     "output_type": "stream",
     "text": [
      "using hyperparameter '90.74600129314223'\n"
     ]
    },
    {
     "name": "stderr",
     "output_type": "stream",
     "text": [
      "100%|██████████| 50000/50000 [00:01<00:00, 39306.34it/s]\n"
     ]
    },
    {
     "name": "stdout",
     "output_type": "stream",
     "text": [
      "using hyperparameter '93.62682673101975'\n"
     ]
    },
    {
     "name": "stderr",
     "output_type": "stream",
     "text": [
      "100%|██████████| 50000/50000 [00:01<00:00, 39885.98it/s]\n"
     ]
    },
    {
     "name": "stdout",
     "output_type": "stream",
     "text": [
      "using hyperparameter '96.50765216889728'\n"
     ]
    },
    {
     "name": "stderr",
     "output_type": "stream",
     "text": [
      "100%|██████████| 50000/50000 [00:01<00:00, 42248.16it/s]\n"
     ]
    },
    {
     "name": "stdout",
     "output_type": "stream",
     "text": [
      "using hyperparameter '99.38847760677481'\n"
     ]
    },
    {
     "name": "stderr",
     "output_type": "stream",
     "text": [
      "100%|██████████| 50000/50000 [00:01<00:00, 40417.82it/s]\n"
     ]
    },
    {
     "name": "stdout",
     "output_type": "stream",
     "text": [
      "using hyperparameter '102.26930304465233'\n"
     ]
    },
    {
     "name": "stderr",
     "output_type": "stream",
     "text": [
      "100%|██████████| 50000/50000 [00:01<00:00, 42092.07it/s]\n"
     ]
    },
    {
     "name": "stdout",
     "output_type": "stream",
     "text": [
      "using hyperparameter '105.15012848252988'\n"
     ]
    },
    {
     "name": "stderr",
     "output_type": "stream",
     "text": [
      "100%|██████████| 50000/50000 [00:01<00:00, 40697.30it/s]\n"
     ]
    },
    {
     "name": "stdout",
     "output_type": "stream",
     "text": [
      "using hyperparameter '108.0309539204074'\n"
     ]
    },
    {
     "name": "stderr",
     "output_type": "stream",
     "text": [
      "100%|██████████| 50000/50000 [00:01<00:00, 40998.94it/s]\n"
     ]
    },
    {
     "name": "stdout",
     "output_type": "stream",
     "text": [
      "using hyperparameter '110.91177935828495'\n"
     ]
    },
    {
     "name": "stderr",
     "output_type": "stream",
     "text": [
      "100%|██████████| 50000/50000 [00:01<00:00, 34684.23it/s]\n"
     ]
    },
    {
     "name": "stdout",
     "output_type": "stream",
     "text": [
      "using hyperparameter '113.79260479616246'\n"
     ]
    },
    {
     "name": "stderr",
     "output_type": "stream",
     "text": [
      "100%|██████████| 50000/50000 [00:01<00:00, 38743.52it/s]\n"
     ]
    },
    {
     "name": "stdout",
     "output_type": "stream",
     "text": [
      "using hyperparameter '116.67343023403998'\n"
     ]
    },
    {
     "name": "stderr",
     "output_type": "stream",
     "text": [
      "100%|██████████| 50000/50000 [00:01<00:00, 41084.54it/s]\n"
     ]
    },
    {
     "name": "stdout",
     "output_type": "stream",
     "text": [
      "using hyperparameter '119.55425567191753'\n"
     ]
    },
    {
     "name": "stderr",
     "output_type": "stream",
     "text": [
      "100%|██████████| 50000/50000 [00:01<00:00, 42143.80it/s]\n"
     ]
    },
    {
     "name": "stdout",
     "output_type": "stream",
     "text": [
      "using hyperparameter '122.43508110979505'\n"
     ]
    },
    {
     "name": "stderr",
     "output_type": "stream",
     "text": [
      "100%|██████████| 50000/50000 [00:01<00:00, 42314.78it/s]\n"
     ]
    },
    {
     "name": "stdout",
     "output_type": "stream",
     "text": [
      "using hyperparameter '125.3159065476726'\n"
     ]
    },
    {
     "name": "stderr",
     "output_type": "stream",
     "text": [
      "100%|██████████| 50000/50000 [00:01<00:00, 42496.34it/s]\n"
     ]
    },
    {
     "name": "stdout",
     "output_type": "stream",
     "text": [
      "Elapsed time: 37.29580116271973\n"
     ]
    },
    {
     "data": {
      "image/png": "[encoded data removed]",
      "text/plain": [
       "<Figure size 432x288 with 1 Axes>"
      ]
     },
     "metadata": {
      "needs_background": "light"
     },
     "output_type": "display_data"
    }
   ],
   "source": [
    "window = 0.5 # what multiple of the default value we want to scan around\n",
    "search_points = 30\n",
    "\n",
    "is_periodic_arr = []\n",
    "get_wavelength_arr = []\n",
    "# using only the first hyperparameter\n",
    "default = params[8]\n",
    "window_breadth = default * window\n",
    "\n",
    "start_time = time.time()\n",
    "for h in np.linspace(default - window_breadth, default + window_breadth, search_points):\n",
    "    print(f\"using hyperparameter \\'{h}\\'\")\n",
    "    new_parameters = copy.copy(params)\n",
    "    new_parameters[8] = h\n",
    "    hist = mn.calculate_data(x0, steps, dt, new_parameters, method='RK2')\n",
    "    normalized_trimmed_hist = (hist[100:,0] - np.mean(hist[100:,0]))\n",
    "    is_periodic_arr.append(is_periodic(normalized_trimmed_hist))\n",
    "    get_wavelength_arr.append(get_wavelength(normalized_trimmed_hist))\n",
    "\n",
    "plt.plot(np.array(is_periodic_arr, dtype=np.int32))\n",
    "plt.plot(np.array(get_wavelength_arr, dtype=np.float32))\n",
    "print(f\"Elapsed time: {time.time() - start_time}\")"
   ]
  },
  {
   "cell_type": "code",
   "execution_count": null,
   "metadata": {},
   "outputs": [],
   "source": []
  }
 ],
 "metadata": {
  "kernelspec": {
   "display_name": "venv",
   "language": "python",
   "name": "python3"
  },
  "language_info": {
   "codemirror_mode": {
    "name": "ipython",
    "version": 3
   },
   "file_extension": ".py",
   "mimetype": "text/x-python",
   "name": "python",
   "nbconvert_exporter": "python",
   "pygments_lexer": "ipython3",
   "version": "3.9.7"
  }
 },
 "nbformat": 4,
 "nbformat_minor": 2
}
