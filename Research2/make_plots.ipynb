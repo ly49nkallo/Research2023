{
 "cells": [
  {
   "cell_type": "code",
   "execution_count": 1,
   "metadata": {},
   "outputs": [],
   "source": [
    "import model_num as mn\n",
    "import matplotlib.pyplot as plt\n",
    "import regex as re\n",
    "import os\n",
    "import pprint\n",
    "from pathlib import Path\n",
    "\n",
    "LOGFILE:Path = Path(\"./log.md\")\n",
    "FIGFILE = Path(\"./figures\")"
   ]
  },
  {
   "cell_type": "code",
   "execution_count": 2,
   "metadata": {},
   "outputs": [],
   "source": [
    "def extract_points(lines)->dict:\n",
    "    d:dict = dict.fromkeys(mn.get_parameter_names())\n",
    "    for i in d:\n",
    "        d[i] = list()\n",
    "    current_param = None\n",
    "    for line in lines:\n",
    "        line:str\n",
    "        if re.match(\"## Parameter\", line):\n",
    "            current_param = line[line.index('\"'):][1:-2]\n",
    "        elif re.match(\"\\| \\d+\\.\\d+\", line):\n",
    "            s:list = line.split(\"|\")\n",
    "            d[current_param].append((float(s[1].strip()), float(s[2].strip())))\n",
    "    return d\n",
    "\n",
    "def find_bifurcations(lines)->dict:\n",
    "    current_param:str = None\n",
    "    d:dict = dict.fromkeys(mn.get_parameter_names())\n",
    "    for line in lines:\n",
    "        if re.match(\"## Parameter\", line):\n",
    "            current_param = line[line.index('\"'):][1:-2]\n",
    "        elif re.match(\"Event 0 @\", line):\n",
    "            d[current_param] = float(line[line.index(',') + 2:-2])\n",
    "    return d"
   ]
  },
  {
   "cell_type": "code",
   "execution_count": 3,
   "metadata": {},
   "outputs": [],
   "source": [
    "with open(LOGFILE, 'r') as f:\n",
    "    lines = f.readlines()\n",
    "\n",
    "if not os.path.exists(FIGFILE):\n",
    "    os.mkdir(FIGFILE)\n",
    "\n",
    "# d = find_bifurcations(lines)\n",
    "# pprint.pprint(d)\n",
    "# d = extract_points(lines)\n",
    "# pprint.pprint(d['Cgs'])"
   ]
  },
  {
   "cell_type": "code",
   "execution_count": 4,
   "metadata": {},
   "outputs": [],
   "source": [
    "d = extract_points(lines)\n",
    "i = 0\n",
    "for p in d:\n",
    "    i += 1\n",
    "    # if i > 3: continue\n",
    "    xs = [z[0] for z in d[p]]\n",
    "    ys = [z[1] for z in d[p]]\n",
    "    fig = plt.figure()\n",
    "    plt.scatter(xs, ys)\n",
    "    plt.title(p)\n",
    "    plt.ylabel(\"Wavelength\")\n",
    "    plt.xlabel(\"Value\")\n",
    "    plt.savefig(f\"./figures/{p}_plot.png\")\n",
    "    plt.close(fig) # don't show"
   ]
  }
 ],
 "metadata": {
  "kernelspec": {
   "display_name": "base",
   "language": "python",
   "name": "python3"
  },
  "language_info": {
   "codemirror_mode": {
    "name": "ipython",
    "version": 3
   },
   "file_extension": ".py",
   "mimetype": "text/x-python",
   "name": "python",
   "nbconvert_exporter": "python",
   "pygments_lexer": "ipython3",
   "version": "3.9.7"
  }
 },
 "nbformat": 4,
 "nbformat_minor": 2
}
